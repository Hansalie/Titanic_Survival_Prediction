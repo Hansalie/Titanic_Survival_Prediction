{
 "cells": [
  {
   "cell_type": "markdown",
   "metadata": {},
   "source": [
    "# Titanic Survival Prediction\n",
    "\n",
    "This notebook builds a machine learning model to predict which passengers survived the Titanic shipwreck.\n",
    "\n",
    "The approach includes:\n",
    "- Feature engineering with age categories and family information\n",
    "- Data preprocessing and missing value handling\n",
    "- Logistic Regression modeling\n",
    "- Performance evaluation using confusion matrix and ROC curve"
   ]
  },
  {
   "cell_type": "code",
   "execution_count": null,
   "metadata": {
    "execution": {
     "iopub.execute_input": "2025-04-24T12:57:17.152169Z",
     "iopub.status.busy": "2025-04-24T12:57:17.151714Z",
     "iopub.status.idle": "2025-04-24T12:57:18.226304Z",
     "shell.execute_reply": "2025-04-24T12:57:18.225258Z",
     "shell.execute_reply.started": "2025-04-24T12:57:17.152142Z"
    },
    "trusted": true
   },
   "outputs": [],
   "source": [
    "# Import Libraries\n",
    "\n",
    "import numpy as np\n",
    "import pandas as pd\n",
    "import matplotlib.pyplot as plt\n",
    "from sklearn.model_selection import train_test_split\n",
    "from sklearn.preprocessing import StandardScaler\n",
    "from sklearn.linear_model import LogisticRegression\n",
    "from sklearn.metrics import confusion_matrix, ConfusionMatrixDisplay\n",
    "from sklearn.metrics import accuracy_score, classification_report, RocCurveDisplay"
   ]
  },
  {
   "cell_type": "code",
   "execution_count": null,
   "metadata": {
    "_cell_guid": "b1076dfc-b9ad-4769-8c92-a6c4dae69d19",
    "_uuid": "8f2839f25d086af736a60e9eeb907d3b93b6e0e5",
    "execution": {
     "iopub.execute_input": "2025-04-24T12:57:18.228535Z",
     "iopub.status.busy": "2025-04-24T12:57:18.228028Z",
     "iopub.status.idle": "2025-04-24T12:57:18.237184Z",
     "shell.execute_reply": "2025-04-24T12:57:18.235814Z",
     "shell.execute_reply.started": "2025-04-24T12:57:18.228505Z"
    },
    "trusted": true
   },
   "outputs": [],
   "source": [
    "# This Python 3 environment comes with many helpful analytics libraries installed\n",
    "# It is defined by the kaggle/python Docker image: https://github.com/kaggle/docker-python\n",
    "# For example, here's several helpful packages to load\n",
    "\n",
    "import numpy as np # linear algebra\n",
    "import pandas as pd # data processing, CSV file I/O (e.g. pd.read_csv)\n",
    "\n",
    "# Input data files are available in the read-only \"../input/\" directory\n",
    "# For example, running this (by clicking run or pressing Shift+Enter) will list all files under the input directory\n",
    "\n",
    "import os\n",
    "for dirname, _, filenames in os.walk('/kaggle/input'):\n",
    "    for filename in filenames:\n",
    "        print(os.path.join(dirname, filename))\n",
    "\n",
    "# You can write up to 20GB to the current directory (/kaggle/working/) that gets preserved as output when you create a version using \"Save & Run All\" \n",
    "# You can also write temporary files to /kaggle/temp/, but they won't be saved outside of the current session"
   ]
  },
  {
   "cell_type": "code",
   "execution_count": null,
   "metadata": {
    "execution": {
     "iopub.execute_input": "2025-04-24T12:57:18.238631Z",
     "iopub.status.busy": "2025-04-24T12:57:18.238341Z",
     "iopub.status.idle": "2025-04-24T12:57:18.291613Z",
     "shell.execute_reply": "2025-04-24T12:57:18.290657Z",
     "shell.execute_reply.started": "2025-04-24T12:57:18.238604Z"
    },
    "trusted": true
   },
   "outputs": [],
   "source": [
    "# Load the datasets\n",
    "train_data=pd.read_csv(\"/kaggle/input/titanic/train.csv\")\n",
    "test_data=pd.read_csv(\"/kaggle/input/titanic/test.csv\")\n",
    "submitted_data=pd.read_csv(\"/kaggle/input/titanic/gender_submission.csv\")"
   ]
  },
  {
   "cell_type": "code",
   "execution_count": null,
   "metadata": {
    "execution": {
     "iopub.execute_input": "2025-04-24T12:57:18.293823Z",
     "iopub.status.busy": "2025-04-24T12:57:18.293575Z",
     "iopub.status.idle": "2025-04-24T12:57:18.333508Z",
     "shell.execute_reply": "2025-04-24T12:57:18.332610Z",
     "shell.execute_reply.started": "2025-04-24T12:57:18.293804Z"
    },
    "trusted": true
   },
   "outputs": [],
   "source": [
    "# Display the first few rows of training data\n",
    "train_data.head()"
   ]
  },
  {
   "cell_type": "code",
   "execution_count": null,
   "metadata": {
    "execution": {
     "iopub.execute_input": "2025-04-24T12:57:18.334994Z",
     "iopub.status.busy": "2025-04-24T12:57:18.334705Z",
     "iopub.status.idle": "2025-04-24T12:57:18.362166Z",
     "shell.execute_reply": "2025-04-24T12:57:18.360667Z",
     "shell.execute_reply.started": "2025-04-24T12:57:18.334974Z"
    },
    "trusted": true
   },
   "outputs": [],
   "source": [
    "train_data.info()  # Check the structure and missing values in our dataset"
   ]
  },
  {
   "cell_type": "markdown",
   "metadata": {},
   "source": [
    "# Data Preprocessing"
   ]
  },
  {
   "cell_type": "code",
   "execution_count": null,
   "metadata": {
    "execution": {
     "iopub.execute_input": "2025-04-24T12:57:18.363393Z",
     "iopub.status.busy": "2025-04-24T12:57:18.363088Z",
     "iopub.status.idle": "2025-04-24T12:57:18.388637Z",
     "shell.execute_reply": "2025-04-24T12:57:18.387556Z",
     "shell.execute_reply.started": "2025-04-24T12:57:18.363369Z"
    },
    "trusted": true
   },
   "outputs": [],
   "source": [
    "# Remove unnecessary columns \n",
    "train_data.drop([\"PassengerId\", \"Name\", \"Cabin\"], axis=1, inplace=True)\n",
    "test_data.drop([\"Name\", \"Cabin\"], axis=1, inplace=True)"
   ]
  },
  {
   "cell_type": "code",
   "execution_count": null,
   "metadata": {
    "execution": {
     "iopub.execute_input": "2025-04-24T12:57:18.390252Z",
     "iopub.status.busy": "2025-04-24T12:57:18.389912Z",
     "iopub.status.idle": "2025-04-24T12:57:18.414121Z",
     "shell.execute_reply": "2025-04-24T12:57:18.413187Z",
     "shell.execute_reply.started": "2025-04-24T12:57:18.390226Z"
    },
    "trusted": true
   },
   "outputs": [],
   "source": [
    "# Check missing values percentage\n",
    "train_data.isna().sum()/len(train_data)*100"
   ]
  },
  {
   "cell_type": "markdown",
   "metadata": {},
   "source": [
    "# Feature Engineering"
   ]
  },
  {
   "cell_type": "code",
   "execution_count": null,
   "metadata": {
    "execution": {
     "iopub.execute_input": "2025-04-24T12:57:18.415383Z",
     "iopub.status.busy": "2025-04-24T12:57:18.415108Z",
     "iopub.status.idle": "2025-04-24T12:57:18.435294Z",
     "shell.execute_reply": "2025-04-24T12:57:18.434367Z",
     "shell.execute_reply.started": "2025-04-24T12:57:18.415361Z"
    },
    "trusted": true
   },
   "outputs": [],
   "source": [
    "# Create a new feature 'Family_Size'\n",
    "train_data[\"Family_Size\"]=train_data.SibSp+train_data.Parch\n",
    "test_data[\"Family_Size\"]=test_data.SibSp+test_data.Parch"
   ]
  },
  {
   "cell_type": "code",
   "execution_count": null,
   "metadata": {
    "execution": {
     "iopub.execute_input": "2025-04-24T12:57:18.437053Z",
     "iopub.status.busy": "2025-04-24T12:57:18.436717Z",
     "iopub.status.idle": "2025-04-24T12:57:18.455615Z",
     "shell.execute_reply": "2025-04-24T12:57:18.454661Z",
     "shell.execute_reply.started": "2025-04-24T12:57:18.437029Z"
    },
    "trusted": true
   },
   "outputs": [],
   "source": [
    "# Create 'Is_Alone' feature\n",
    "def isAlone(value):\n",
    "    if value == 0:\n",
    "        return 1  # Traveling alone\n",
    "    else:\n",
    "        return 0  # Traveling with family"
   ]
  },
  {
   "cell_type": "code",
   "execution_count": null,
   "metadata": {
    "execution": {
     "iopub.execute_input": "2025-04-24T12:57:18.460294Z",
     "iopub.status.busy": "2025-04-24T12:57:18.459440Z",
     "iopub.status.idle": "2025-04-24T12:57:18.479972Z",
     "shell.execute_reply": "2025-04-24T12:57:18.478869Z",
     "shell.execute_reply.started": "2025-04-24T12:57:18.460261Z"
    },
    "trusted": true
   },
   "outputs": [],
   "source": [
    "train_data[\"Is_Alone\"] = train_data[\"Family_Size\"].apply(isAlone)\n",
    "test_data[\"Is_Alone\"] = test_data[\"Family_Size\"].apply(isAlone)"
   ]
  },
  {
   "cell_type": "code",
   "execution_count": null,
   "metadata": {
    "execution": {
     "iopub.execute_input": "2025-04-24T12:57:18.482105Z",
     "iopub.status.busy": "2025-04-24T12:57:18.481162Z",
     "iopub.status.idle": "2025-04-24T12:57:18.502935Z",
     "shell.execute_reply": "2025-04-24T12:57:18.501770Z",
     "shell.execute_reply.started": "2025-04-24T12:57:18.482071Z"
    },
    "trusted": true
   },
   "outputs": [],
   "source": [
    "# Create age groups feature\n",
    "def categorize_age(age):\n",
    "    \"\"\"\n",
    "    Categorizes passengers into age groups.\n",
    "    \n",
    "    Parameters:\n",
    "    age (float): The age of the passenger\n",
    "    \n",
    "    Returns:\n",
    "    str: Age category (Child, Teenager, Young Adult, Adult, Senior, or Unknown)\n",
    "    \"\"\"\n",
    "    if pd.isna(age):\n",
    "        return \"Unknown\"\n",
    "    elif age <= 12:\n",
    "        return \"Child\"\n",
    "    elif age <= 18:\n",
    "        return \"Teenager\"\n",
    "    elif age <= 35:\n",
    "        return \"Young Adult\"\n",
    "    elif age <= 60:\n",
    "        return \"Adult\"\n",
    "    else:\n",
    "        return \"Senior\""
   ]
  },
  {
   "cell_type": "code",
   "execution_count": null,
   "metadata": {
    "execution": {
     "iopub.execute_input": "2025-04-24T12:57:18.504156Z",
     "iopub.status.busy": "2025-04-24T12:57:18.503822Z",
     "iopub.status.idle": "2025-04-24T12:57:18.526890Z",
     "shell.execute_reply": "2025-04-24T12:57:18.525891Z",
     "shell.execute_reply.started": "2025-04-24T12:57:18.504133Z"
    },
    "trusted": true
   },
   "outputs": [],
   "source": [
    "train_data[\"Age_Category\"] = train_data[\"Age\"].apply(categorize_age)\n",
    "test_data[\"Age_Category\"] = test_data[\"Age\"].apply(categorize_age)"
   ]
  },
  {
   "cell_type": "code",
   "execution_count": null,
   "metadata": {
    "execution": {
     "iopub.execute_input": "2025-04-24T12:57:18.528227Z",
     "iopub.status.busy": "2025-04-24T12:57:18.527927Z",
     "iopub.status.idle": "2025-04-24T12:57:18.553658Z",
     "shell.execute_reply": "2025-04-24T12:57:18.552521Z",
     "shell.execute_reply.started": "2025-04-24T12:57:18.528203Z"
    },
    "trusted": true
   },
   "outputs": [],
   "source": [
    "# Convert fare to logarithmic scale\n",
    "train_data[\"Log_Fare\"] = np.log1p(train_data[\"Fare\"])  # log1p handles zero values\n",
    "test_data[\"Log_Fare\"] = np.log1p(test_data[\"Fare\"])"
   ]
  },
  {
   "cell_type": "markdown",
   "metadata": {},
   "source": [
    "# Handle Missing Values and Further Preprocessing"
   ]
  },
  {
   "cell_type": "code",
   "execution_count": null,
   "metadata": {
    "execution": {
     "iopub.execute_input": "2025-04-24T12:57:18.554814Z",
     "iopub.status.busy": "2025-04-24T12:57:18.554594Z",
     "iopub.status.idle": "2025-04-24T12:57:18.563938Z",
     "shell.execute_reply": "2025-04-24T12:57:18.562992Z",
     "shell.execute_reply.started": "2025-04-24T12:57:18.554786Z"
    },
    "trusted": true
   },
   "outputs": [],
   "source": [
    "# Drop the original columns\n",
    "train_data.drop([\"SibSp\", \"Parch\", \"Ticket\"], axis=1, inplace=True)\n",
    "test_data.drop([\"SibSp\", \"Parch\", \"Ticket\"], axis=1, inplace=True)"
   ]
  },
  {
   "cell_type": "code",
   "execution_count": null,
   "metadata": {
    "execution": {
     "iopub.execute_input": "2025-04-24T12:57:18.565239Z",
     "iopub.status.busy": "2025-04-24T12:57:18.564668Z",
     "iopub.status.idle": "2025-04-24T12:57:18.592625Z",
     "shell.execute_reply": "2025-04-24T12:57:18.591577Z",
     "shell.execute_reply.started": "2025-04-24T12:57:18.565217Z"
    },
    "trusted": true
   },
   "outputs": [],
   "source": [
    "train_data.head()"
   ]
  },
  {
   "cell_type": "code",
   "execution_count": null,
   "metadata": {
    "execution": {
     "iopub.execute_input": "2025-04-24T12:57:18.593996Z",
     "iopub.status.busy": "2025-04-24T12:57:18.593536Z",
     "iopub.status.idle": "2025-04-24T12:57:18.613893Z",
     "shell.execute_reply": "2025-04-24T12:57:18.612750Z",
     "shell.execute_reply.started": "2025-04-24T12:57:18.593967Z"
    },
    "trusted": true
   },
   "outputs": [],
   "source": [
    "train_data[\"Embarked\"].unique()"
   ]
  },
  {
   "cell_type": "code",
   "execution_count": null,
   "metadata": {
    "execution": {
     "iopub.execute_input": "2025-04-24T12:57:18.615440Z",
     "iopub.status.busy": "2025-04-24T12:57:18.615128Z",
     "iopub.status.idle": "2025-04-24T12:57:18.637778Z",
     "shell.execute_reply": "2025-04-24T12:57:18.636816Z",
     "shell.execute_reply.started": "2025-04-24T12:57:18.615420Z"
    },
    "trusted": true
   },
   "outputs": [],
   "source": [
    "# Handle missing 'Embarked' values\n",
    "train_data.dropna(subset=[\"Embarked\"], inplace=True)\n",
    "test_data.dropna(subset=[\"Embarked\"], inplace=True)"
   ]
  },
  {
   "cell_type": "code",
   "execution_count": null,
   "metadata": {
    "execution": {
     "iopub.execute_input": "2025-04-24T12:57:18.639208Z",
     "iopub.status.busy": "2025-04-24T12:57:18.638919Z",
     "iopub.status.idle": "2025-04-24T12:57:18.664032Z",
     "shell.execute_reply": "2025-04-24T12:57:18.662921Z",
     "shell.execute_reply.started": "2025-04-24T12:57:18.639183Z"
    },
    "trusted": true
   },
   "outputs": [],
   "source": [
    "# Fill missing 'Age' values\n",
    "train_data[\"Age\"] = train_data[\"Age\"].fillna(train_data[\"Age\"].mean())\n",
    "test_data[\"Age\"] = test_data[\"Age\"].fillna(test_data[\"Age\"].mean())"
   ]
  },
  {
   "cell_type": "code",
   "execution_count": null,
   "metadata": {
    "execution": {
     "iopub.execute_input": "2025-04-24T12:57:18.665544Z",
     "iopub.status.busy": "2025-04-24T12:57:18.665205Z",
     "iopub.status.idle": "2025-04-24T12:57:18.681365Z",
     "shell.execute_reply": "2025-04-24T12:57:18.680263Z",
     "shell.execute_reply.started": "2025-04-24T12:57:18.665487Z"
    },
    "trusted": true
   },
   "outputs": [],
   "source": [
    "# Fill missing 'Fare' values\n",
    "test_data[\"Fare\"] = test_data[\"Fare\"].fillna(train_data[\"Fare\"].median())\n",
    "test_data[\"Log_Fare\"] = test_data[\"Log_Fare\"].fillna(np.log1p(train_data[\"Fare\"].median()))"
   ]
  },
  {
   "cell_type": "code",
   "execution_count": null,
   "metadata": {
    "execution": {
     "iopub.execute_input": "2025-04-24T12:57:18.682684Z",
     "iopub.status.busy": "2025-04-24T12:57:18.682437Z",
     "iopub.status.idle": "2025-04-24T12:57:18.704213Z",
     "shell.execute_reply": "2025-04-24T12:57:18.703315Z",
     "shell.execute_reply.started": "2025-04-24T12:57:18.682665Z"
    },
    "trusted": true
   },
   "outputs": [],
   "source": [
    "# Convert 'Sex' to numerical\n",
    "train_data[\"Sex\"] = train_data[\"Sex\"].map({\"male\": 0, \"female\": 1})\n",
    "test_data[\"Sex\"] = test_data[\"Sex\"].map({\"male\": 0, \"female\": 1})"
   ]
  },
  {
   "cell_type": "code",
   "execution_count": null,
   "metadata": {
    "execution": {
     "iopub.execute_input": "2025-04-24T12:57:18.705345Z",
     "iopub.status.busy": "2025-04-24T12:57:18.705054Z",
     "iopub.status.idle": "2025-04-24T12:57:18.734900Z",
     "shell.execute_reply": "2025-04-24T12:57:18.733909Z",
     "shell.execute_reply.started": "2025-04-24T12:57:18.705320Z"
    },
    "trusted": true
   },
   "outputs": [],
   "source": [
    "# One-hot encode categorical variables\n",
    "train_data = pd.get_dummies(train_data, columns=[\"Embarked\", \"Age_Category\"], drop_first=True)\n",
    "test_data = pd.get_dummies(test_data, columns=[\"Embarked\", \"Age_Category\"], drop_first=True)"
   ]
  },
  {
   "cell_type": "code",
   "execution_count": null,
   "metadata": {
    "execution": {
     "iopub.execute_input": "2025-04-24T12:57:18.736309Z",
     "iopub.status.busy": "2025-04-24T12:57:18.735923Z",
     "iopub.status.idle": "2025-04-24T12:57:18.749794Z",
     "shell.execute_reply": "2025-04-24T12:57:18.748809Z",
     "shell.execute_reply.started": "2025-04-24T12:57:18.736274Z"
    },
    "trusted": true
   },
   "outputs": [],
   "source": [
    "train_data.info()"
   ]
  },
  {
   "cell_type": "code",
   "execution_count": null,
   "metadata": {
    "execution": {
     "iopub.execute_input": "2025-04-24T12:57:18.751333Z",
     "iopub.status.busy": "2025-04-24T12:57:18.751038Z",
     "iopub.status.idle": "2025-04-24T12:57:18.763574Z",
     "shell.execute_reply": "2025-04-24T12:57:18.762692Z",
     "shell.execute_reply.started": "2025-04-24T12:57:18.751307Z"
    },
    "trusted": true
   },
   "outputs": [],
   "source": [
    "test_data.info()"
   ]
  },
  {
   "cell_type": "markdown",
   "metadata": {},
   "source": [
    "# Model Training and Evaluation"
   ]
  },
  {
   "cell_type": "code",
   "execution_count": null,
   "metadata": {
    "execution": {
     "iopub.execute_input": "2025-04-24T12:57:18.765456Z",
     "iopub.status.busy": "2025-04-24T12:57:18.764613Z",
     "iopub.status.idle": "2025-04-24T12:57:18.783624Z",
     "shell.execute_reply": "2025-04-24T12:57:18.782713Z",
     "shell.execute_reply.started": "2025-04-24T12:57:18.765426Z"
    },
    "trusted": true
   },
   "outputs": [],
   "source": [
    "# Define features\n",
    "features = [\"Pclass\", \"Sex\", \"Age\", \"Fare\", \"Family_Size\", \"Is_Alone\", \"Log_Fare\"]\n",
    "for col in train_data.columns:\n",
    "    if col.startswith(\"Embarked_\") or col.startswith(\"Age_Category_\"):\n",
    "        features.append(col)"
   ]
  },
  {
   "cell_type": "code",
   "execution_count": null,
   "metadata": {
    "execution": {
     "iopub.execute_input": "2025-04-24T12:57:18.784897Z",
     "iopub.status.busy": "2025-04-24T12:57:18.784580Z",
     "iopub.status.idle": "2025-04-24T12:57:18.806299Z",
     "shell.execute_reply": "2025-04-24T12:57:18.804914Z",
     "shell.execute_reply.started": "2025-04-24T12:57:18.784863Z"
    },
    "trusted": true
   },
   "outputs": [],
   "source": [
    "# Prepare data\n",
    "X = train_data[features]\n",
    "y = train_data[\"Survived\"]"
   ]
  },
  {
   "cell_type": "code",
   "execution_count": null,
   "metadata": {
    "execution": {
     "iopub.execute_input": "2025-04-24T12:57:18.807678Z",
     "iopub.status.busy": "2025-04-24T12:57:18.807376Z",
     "iopub.status.idle": "2025-04-24T12:57:18.831585Z",
     "shell.execute_reply": "2025-04-24T12:57:18.830689Z",
     "shell.execute_reply.started": "2025-04-24T12:57:18.807654Z"
    },
    "trusted": true
   },
   "outputs": [],
   "source": [
    "# Split dataset into train and validation sets\n",
    "X_train, X_test, y_train, y_test = train_test_split(X, y, test_size=0.2, random_state=14, stratify=y)"
   ]
  },
  {
   "cell_type": "code",
   "execution_count": null,
   "metadata": {
    "execution": {
     "iopub.execute_input": "2025-04-24T12:57:18.832976Z",
     "iopub.status.busy": "2025-04-24T12:57:18.832671Z",
     "iopub.status.idle": "2025-04-24T12:57:18.870875Z",
     "shell.execute_reply": "2025-04-24T12:57:18.869780Z",
     "shell.execute_reply.started": "2025-04-24T12:57:18.832952Z"
    },
    "trusted": true
   },
   "outputs": [],
   "source": [
    "# Scale features\n",
    "scaler = StandardScaler()\n",
    "X_train_scaled = scaler.fit_transform(X_train)\n",
    "X_test_scaled = scaler.transform(X_test)"
   ]
  },
  {
   "cell_type": "code",
   "execution_count": null,
   "metadata": {
    "execution": {
     "iopub.execute_input": "2025-04-24T12:57:18.875737Z",
     "iopub.status.busy": "2025-04-24T12:57:18.874916Z",
     "iopub.status.idle": "2025-04-24T12:57:19.147225Z",
     "shell.execute_reply": "2025-04-24T12:57:19.145558Z",
     "shell.execute_reply.started": "2025-04-24T12:57:18.875712Z"
    },
    "trusted": true
   },
   "outputs": [],
   "source": [
    "# Train logistic regression model\n",
    "logreg = LogisticRegression()\n",
    "logreg.fit(X_train_scaled, y_train)"
   ]
  },
  {
   "cell_type": "code",
   "execution_count": null,
   "metadata": {
    "execution": {
     "iopub.execute_input": "2025-04-24T12:57:19.149865Z",
     "iopub.status.busy": "2025-04-24T12:57:19.148089Z",
     "iopub.status.idle": "2025-04-24T12:57:19.157888Z",
     "shell.execute_reply": "2025-04-24T12:57:19.155848Z",
     "shell.execute_reply.started": "2025-04-24T12:57:19.149814Z"
    },
    "trusted": true
   },
   "outputs": [],
   "source": [
    "# Make predictions\n",
    "y_pred = logreg.predict(X_test_scaled)"
   ]
  },
  {
   "cell_type": "markdown",
   "metadata": {},
   "source": [
    "# Visualizing the model's predictions versus actual outcomes"
   ]
  },
  {
   "cell_type": "code",
   "execution_count": null,
   "metadata": {
    "execution": {
     "iopub.execute_input": "2025-04-24T12:57:19.159107Z",
     "iopub.status.busy": "2025-04-24T12:57:19.158734Z",
     "iopub.status.idle": "2025-04-24T12:57:19.629154Z",
     "shell.execute_reply": "2025-04-24T12:57:19.628239Z",
     "shell.execute_reply.started": "2025-04-24T12:57:19.159074Z"
    },
    "trusted": true
   },
   "outputs": [],
   "source": [
    "# Create confusion matrix\n",
    "cm = confusion_matrix(y_test, y_pred, labels=logreg.classes_)\n",
    "disp = ConfusionMatrixDisplay(confusion_matrix=cm, display_labels=logreg.classes_)\n",
    "plt.figure(figsize=(8, 6))\n",
    "disp.plot()\n",
    "plt.title(\"Confusion Matrix for Validation Set\")\n",
    "plt.savefig('confusion_matrix.png')  "
   ]
  },
  {
   "cell_type": "code",
   "execution_count": null,
   "metadata": {
    "execution": {
     "iopub.execute_input": "2025-04-24T12:57:19.630447Z",
     "iopub.status.busy": "2025-04-24T12:57:19.630090Z",
     "iopub.status.idle": "2025-04-24T12:57:19.637596Z",
     "shell.execute_reply": "2025-04-24T12:57:19.636675Z",
     "shell.execute_reply.started": "2025-04-24T12:57:19.630420Z"
    },
    "trusted": true
   },
   "outputs": [],
   "source": [
    "# Calculate accuracy\n",
    "accuracy = accuracy_score(y_test, y_pred)\n",
    "print(f'Logistic Regression Model Accuracy: {accuracy:.4f}')"
   ]
  },
  {
   "cell_type": "code",
   "execution_count": null,
   "metadata": {
    "execution": {
     "iopub.execute_input": "2025-04-24T12:57:19.638903Z",
     "iopub.status.busy": "2025-04-24T12:57:19.638558Z",
     "iopub.status.idle": "2025-04-24T12:57:19.668116Z",
     "shell.execute_reply": "2025-04-24T12:57:19.667143Z",
     "shell.execute_reply.started": "2025-04-24T12:57:19.638875Z"
    },
    "trusted": true
   },
   "outputs": [],
   "source": [
    "# Display classification report\n",
    "print(\"\\nClassification Report:\")\n",
    "print(classification_report(y_test, y_pred))"
   ]
  },
  {
   "cell_type": "code",
   "execution_count": null,
   "metadata": {
    "execution": {
     "iopub.execute_input": "2025-04-24T12:57:19.669449Z",
     "iopub.status.busy": "2025-04-24T12:57:19.669205Z",
     "iopub.status.idle": "2025-04-24T12:57:19.949078Z",
     "shell.execute_reply": "2025-04-24T12:57:19.948118Z",
     "shell.execute_reply.started": "2025-04-24T12:57:19.669431Z"
    },
    "trusted": true
   },
   "outputs": [],
   "source": [
    "# Generate ROC curve\n",
    "plt.figure(figsize=(8, 6))\n",
    "Logreg_roc = RocCurveDisplay.from_estimator(logreg, X_test_scaled, y_test)\n",
    "plt.title(\"ROC Curve for Validation Set\")\n",
    "plt.savefig('roc_curve.png')  \n",
    "plt.show()"
   ]
  },
  {
   "cell_type": "code",
   "execution_count": null,
   "metadata": {
    "execution": {
     "iopub.execute_input": "2025-04-24T12:57:19.950505Z",
     "iopub.status.busy": "2025-04-24T12:57:19.950190Z",
     "iopub.status.idle": "2025-04-24T12:57:19.959087Z",
     "shell.execute_reply": "2025-04-24T12:57:19.958190Z",
     "shell.execute_reply.started": "2025-04-24T12:57:19.950476Z"
    },
    "trusted": true
   },
   "outputs": [],
   "source": [
    "# Prepare test data\n",
    "X_test = test_data[features]\n",
    "X_test_scaled = scaler.transform(X_test)"
   ]
  },
  {
   "cell_type": "code",
   "execution_count": null,
   "metadata": {
    "execution": {
     "iopub.execute_input": "2025-04-24T12:57:19.960681Z",
     "iopub.status.busy": "2025-04-24T12:57:19.960171Z",
     "iopub.status.idle": "2025-04-24T12:57:19.981019Z",
     "shell.execute_reply": "2025-04-24T12:57:19.979910Z",
     "shell.execute_reply.started": "2025-04-24T12:57:19.960659Z"
    },
    "trusted": true
   },
   "outputs": [],
   "source": [
    "# Make predictions\n",
    "test_predictions = logreg.predict(X_test_scaled)"
   ]
  },
  {
   "cell_type": "code",
   "execution_count": null,
   "metadata": {
    "execution": {
     "iopub.execute_input": "2025-04-24T12:57:19.982196Z",
     "iopub.status.busy": "2025-04-24T12:57:19.981884Z",
     "iopub.status.idle": "2025-04-24T12:57:20.007132Z",
     "shell.execute_reply": "2025-04-24T12:57:20.006093Z",
     "shell.execute_reply.started": "2025-04-24T12:57:19.982171Z"
    },
    "trusted": true
   },
   "outputs": [],
   "source": [
    "# Create submission file\n",
    "output=pd.DataFrame({\"PassengerId\":test_data.PassengerId, \"Survived\":test_predictions})\n",
    "output.to_csv('submission.csv', index=False)"
   ]
  }
 ],
 "metadata": {
  "kaggle": {
   "accelerator": "none",
   "dataSources": [
    {
     "databundleVersionId": 26502,
     "sourceId": 3136,
     "sourceType": "competition"
    }
   ],
   "dockerImageVersionId": 31012,
   "isGpuEnabled": false,
   "isInternetEnabled": false,
   "language": "python",
   "sourceType": "notebook"
  },
  "kernelspec": {
   "display_name": "Python 3",
   "language": "python",
   "name": "python3"
  },
  "language_info": {
   "codemirror_mode": {
    "name": "ipython",
    "version": 3
   },
   "file_extension": ".py",
   "mimetype": "text/x-python",
   "name": "python",
   "nbconvert_exporter": "python",
   "pygments_lexer": "ipython3",
   "version": "3.11.11"
  }
 },
 "nbformat": 4,
 "nbformat_minor": 4
}
